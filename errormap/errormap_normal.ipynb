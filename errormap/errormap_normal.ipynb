{
 "cells": [
  {
   "cell_type": "code",
   "execution_count": null,
   "metadata": {},
   "outputs": [],
   "source": [
    "import os\n",
    "os.environ[\"SM_FRAMEWORK\"] = \"tf.keras\"\n",
    "import glob\n",
    "from tensorflow.keras.models import load_model\n",
    "import segmentation_models as sm\n",
    "import tensorflow.keras as keras\n",
    "import tensorflow as tf\n",
    "import rasterio\n",
    "import numpy as np\n",
    "import pandas as pd\n",
    "import matplotlib.pyplot as plt\n",
    "import scipy.io"
   ]
  },
  {
   "cell_type": "code",
   "execution_count": null,
   "metadata": {},
   "outputs": [],
   "source": [
    "def create_if_not_exist(directory):\n",
    "    if not os.path.exists(directory):\n",
    "        os.mkdir(directory)"
   ]
  },
  {
   "cell_type": "code",
   "execution_count": null,
   "metadata": {},
   "outputs": [],
   "source": [
    "model_name = 'FPN'\n",
    "model_num = \"15normal\"\n",
    "\n",
    "parent_folder = 'path/to/parent/folder'\n",
    "\n",
    "csv_path = os.path.join(parent_folder, 'results', model_name, str(model_num), 'train.csv')\n",
    "model_folder = os.path.join(parent_folder, 'results', model_name, str(model_num), 'model')\n",
    "figs_folder = os.path.join(parent_folder, 'results', model_name, str(model_num), 'figs')\n",
    "\n",
    "create_if_not_exist(figs_folder)\n",
    "\n",
    "model_name = os.listdir(model_folder)[-1]\n",
    "model_path = os.path.join(model_folder, model_name)\n",
    "\n",
    "print(model_num, csv_path, model_path, sep='\\n')"
   ]
  },
  {
   "cell_type": "code",
   "execution_count": null,
   "metadata": {},
   "outputs": [],
   "source": [
    "model = load_model(model_path)\n"
   ]
  },
  {
   "cell_type": "code",
   "execution_count": null,
   "metadata": {},
   "outputs": [],
   "source": [
    "a = scipy.io.loadmat(r'path/to/a/sample/horse_1.mat')\n",
    "a.keys()\n",
    "normals = a['Normals_gt']\n",
    "images = a['images']\n",
    "mask = a['mask']\n",
    "\n",
    "normals.shape, images.shape, mask.shape"
   ]
  },
  {
   "cell_type": "code",
   "execution_count": null,
   "metadata": {},
   "outputs": [],
   "source": [
    "\n",
    "new_predicted_image = np.zeros_like(normals)\n",
    "count_predicted_image = np.zeros(normals.shape[:-1])\n",
    "stride = 32\n",
    "patch_size = 128\n",
    "\n",
    "\n",
    "\n",
    "i_range = range(0, 1024-patch_size, stride)\n",
    "j_range = range(0, 1224-patch_size, stride)\n",
    "\n",
    "counter = 0\n",
    "total = len(j_range) * len(i_range)\n",
    "\n",
    "for i in i_range:\n",
    "    for j in j_range:\n",
    "        counter += 1\n",
    "        if counter % 10 == 0:\n",
    "            print(\"{} / {}\".format(counter, total), end='\\r')\n",
    "        current_patch = images[np.newaxis, i:i+patch_size, j:j+patch_size]\n",
    "        predict_current = model.predict(current_patch)[0, ..., :]\n",
    "        new_predicted_image[i:i+patch_size, j:j+patch_size, :] += predict_current\n",
    "        count_predicted_image[i:i+patch_size, j:j+patch_size] += 1\n",
    "\n"
   ]
  },
  {
   "cell_type": "code",
   "execution_count": null,
   "metadata": {},
   "outputs": [],
   "source": [
    "plt.imshow(count_predicted_image)\n",
    "plt.colorbar()"
   ]
  },
  {
   "cell_type": "code",
   "execution_count": null,
   "metadata": {},
   "outputs": [],
   "source": [
    "plt.imshow(new_predicted_image)"
   ]
  },
  {
   "cell_type": "code",
   "execution_count": null,
   "metadata": {},
   "outputs": [],
   "source": [
    "normals_hat = new_predicted_image.copy() / count_predicted_image[..., np.newaxis]\n",
    "\n",
    "normals_hat = normals_hat / np.linalg.norm(normals_hat, axis=2, keepdims=True)\n",
    "normals_hat[mask==0] = 0\n",
    "\n",
    "fig, axes = plt.subplots(2, 2, figsize=(20,20))\n",
    "axes = axes.ravel()\n",
    "\n",
    "axes[3].imshow(normals_hat)\n",
    "axes[1].imshow(normals)\n",
    "axes[2].imshow(normals - normals_hat)\n",
    "axes[0].imshow(images[..., 0])"
   ]
  },
  {
   "cell_type": "code",
   "execution_count": null,
   "metadata": {},
   "outputs": [],
   "source": [
    "a = normals[mask == 1] - normals_hat[mask == 1]\n",
    "aa = plt.hist(a.ravel(), bins=20)"
   ]
  },
  {
   "cell_type": "code",
   "execution_count": null,
   "metadata": {},
   "outputs": [],
   "source": [
    "normals.min(), normals.max(), normals_hat.min(), normals_hat.max(), "
   ]
  },
  {
   "cell_type": "code",
   "execution_count": null,
   "metadata": {},
   "outputs": [],
   "source": [
    "plt.imshow(np.linalg.norm(normals, axis=2))\n",
    "plt.colorbar()"
   ]
  },
  {
   "cell_type": "code",
   "execution_count": null,
   "metadata": {},
   "outputs": [],
   "source": [
    "def calculate_mae(pred: np.ndarray, label: np.ndarray):\n",
    "    adotb = pred * label\n",
    "    norma = np.linalg.norm(pred, axis=1, keepdims=True)\n",
    "    normb = np.linalg.norm(label, axis=1, keepdims=True)\n",
    "    ae = np.arccos(np.sum(adotb, axis=1, keepdims=True) / norma / normb)\n",
    "    return np.mean(ae)\n",
    "\n",
    "mae = calculate_mae(normals_hat[mask == 1], normals[mask == 1])\n",
    "np.rad2deg(mae)"
   ]
  },
  {
   "cell_type": "code",
   "execution_count": null,
   "metadata": {},
   "outputs": [],
   "source": []
  }
 ],
 "metadata": {
  "kernelspec": {
   "display_name": "Python 3.9.5 64-bit",
   "language": "python",
   "name": "python3"
  },
  "language_info": {
   "codemirror_mode": {
    "name": "ipython",
    "version": 3
   },
   "file_extension": ".py",
   "mimetype": "text/x-python",
   "name": "python",
   "nbconvert_exporter": "python",
   "pygments_lexer": "ipython3",
   "version": "3.9.5"
  },
  "orig_nbformat": 4,
  "vscode": {
   "interpreter": {
    "hash": "10a9c6917087c897a5c02b1b09a0ff199f1a9b727d3906f0f1087811b9f3f37f"
   }
  }
 },
 "nbformat": 4,
 "nbformat_minor": 2
}
